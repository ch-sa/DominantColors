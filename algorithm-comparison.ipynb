{
 "cells": [
  {
   "cell_type": "code",
   "execution_count": 58,
   "metadata": {},
   "outputs": [
    {
     "data": {
      "text/plain": [
       "True"
      ]
     },
     "execution_count": 58,
     "metadata": {},
     "output_type": "execute_result"
    }
   ],
   "source": [
    "from pathlib import Path\n",
    "import numpy as np\n",
    "from sklearn.cluster import KMeans\n",
    "from collections import Counter\n",
    "from PIL import Image, ImageFile\n",
    "ImageFile.LOAD_TRUNCATED_IMAGES = True\n",
    "from IPython.display import Markdown as md\n",
    "\n",
    "\n",
    "image_folder = Path(\"test_images\")\n",
    "image_paths = [path for path in image_folder.iterdir()]\n",
    "\n",
    "#image_path = Path(\"test_images/20230713-105000.jpg\")\n",
    "image_path = Path(\"test_images/20230714-060937.jpg\")\n",
    "#image_path = Path(\"test_images/20230714-071015.jpg\")\n",
    "image_path.exists()"
   ]
  },
  {
   "cell_type": "code",
   "execution_count": 56,
   "metadata": {},
   "outputs": [],
   "source": [
    "# HELPER FUNCTIONS\n",
    "from typing import List\n",
    "\n",
    "\n",
    "def rgb2hex(rgb):\n",
    "    hex = \"#{:02x}{:02x}{:02x}\".format(int(rgb[0]), int(rgb[1]), int(rgb[2]))\n",
    "    return hex\n",
    "\n",
    "\n",
    "def hex2rgb(h):\n",
    "    h = h.lstrip('#')\n",
    "    return [int(h[i:i + 2], 16) for i in (0, 2, 4)]\n",
    "\n",
    "def calculate_new_size(image, WIDTH, HEIGHT):\n",
    "    if image.width >= image.height:\n",
    "        wpercent = (WIDTH / float(image.width))\n",
    "        hsize = int((float(image.height) * float(wpercent)))\n",
    "        new_width, new_height = WIDTH, hsize\n",
    "    else:\n",
    "        hpercent = (HEIGHT / float(image.height))\n",
    "        wsize = int((float(image.width) * float(hpercent)))\n",
    "        new_width, new_height = wsize, HEIGHT\n",
    "    return new_width, new_height\n",
    "\n",
    "def print_color(color: str):\n",
    "    return md(f\"<div style='background-color: {color}; min-height: 50px'></div>\")\n",
    "\n",
    "def print_image_info(image: Image) -> None:\n",
    "    print(\n",
    "        \"Loaded {f} image {n}. Size: {s:.2f} KB. Dimensions: ({d})\".format(\n",
    "            f=image.format,\n",
    "            n=image_path.name,\n",
    "            d=image.size,\n",
    "        )\n",
    "    )\n",
    "\n",
    "\n",
    "DIV_TEMPLATE = \"<div style='background-color: {color}; min-height: 50px'>{color}</div>\"\n",
    "\n",
    "def print_colors(colors: List[str]) -> None:\n",
    "    return md(\"\".join([DIV_TEMPLATE.format(color=color) for color in colors]))"
   ]
  },
  {
   "cell_type": "code",
   "execution_count": 37,
   "metadata": {},
   "outputs": [],
   "source": [
    "def dominant_color_via_kmean(image_path: Path) -> str:\n",
    "    image = Image.open(image_path)\n",
    "\n",
    "    # Transform image\n",
    "    new_width, new_height = calculate_new_size(image, 128, 128)\n",
    "    image = image.resize((new_width, new_height), Image.ANTIALIAS)\n",
    "\n",
    "    img_array = np.array(image)\n",
    "    img_vector = img_array.reshape((img_array.shape[0] * img_array.shape[1], 3))\n",
    "\n",
    "    # Modeling\n",
    "    model = KMeans(n_clusters=6)\n",
    "    labels = model.fit_predict(img_vector)\n",
    "    label_counts = Counter(labels)\n",
    "\n",
    "    hex_colors = [rgb2hex(center) for center in model.cluster_centers_]\n",
    "\n",
    "    results = list(zip(hex_colors, list(label_counts.values())))\n",
    "    results.sort(key=lambda tup: tup[1], reverse=True)\n",
    "\n",
    "\n",
    "    hex_color, count = results[0]\n",
    "    return hex_color"
   ]
  },
  {
   "cell_type": "code",
   "execution_count": 38,
   "metadata": {},
   "outputs": [],
   "source": [
    "from colorthief import ColorThief\n",
    "\n",
    "def dominant_color_via_color_thief(image_path: Path) -> str:\n",
    "    color_thief = ColorThief(image_path)\n",
    "    # get the dominant color\n",
    "    dominant_color = color_thief.get_color(quality=10)\n",
    "    return rgb2hex(dominant_color)\n"
   ]
  },
  {
   "cell_type": "code",
   "execution_count": 63,
   "metadata": {},
   "outputs": [],
   "source": [
    "import scipy.cluster\n",
    "import sklearn.cluster\n",
    "\n",
    "def dominant_color_via_mini_kmeans(image_path: Path) -> str:\n",
    "    image = Image.open(image_path)\n",
    "\n",
    "    image = image.resize((128, 128))      # optional, to reduce time\n",
    "    ar = np.asarray(image)\n",
    "    shape = ar.shape\n",
    "    ar = ar.reshape(np.product(shape[:2]), shape[2]).astype(float)\n",
    "\n",
    "    kmeans = sklearn.cluster.MiniBatchKMeans(\n",
    "        n_clusters=6,\n",
    "        init=\"k-means++\",\n",
    "        max_iter=20,\n",
    "        random_state=1000\n",
    "    ).fit(ar)\n",
    "    codes = kmeans.cluster_centers_\n",
    "\n",
    "    vecs, _dist = scipy.cluster.vq.vq(ar, codes)         # assign codes\n",
    "    counts, _bins = np.histogram(vecs, len(codes))    # count occurrences\n",
    "\n",
    "    colors = []\n",
    "    for index in np.argsort(counts)[::-1]:\n",
    "        colors.append(tuple([int(code) for code in codes[index]]))\n",
    "    return rgb2hex(colors[0])"
   ]
  },
  {
   "cell_type": "code",
   "execution_count": 64,
   "metadata": {},
   "outputs": [
    {
     "name": "stdout",
     "output_type": "stream",
     "text": [
      "Testing function: dominant_color_via_kmean\n",
      "Execution time: 2.7150888442993164\n",
      "\n",
      "Testing function: dominant_color_via_mini_kmeans\n",
      "Execution time: 0.2840602397918701\n",
      "\n",
      "Testing function: dominant_color_via_kmean\n",
      "Execution time: 3.3999946117401123\n",
      "\n",
      "Testing function: dominant_color_via_mini_kmeans\n",
      "Execution time: 0.30806756019592285\n",
      "\n",
      "Testing function: dominant_color_via_kmean\n",
      "Execution time: 2.696955442428589\n",
      "\n",
      "Testing function: dominant_color_via_mini_kmeans\n",
      "Execution time: 0.27497267723083496\n",
      "\n",
      "Testing function: dominant_color_via_kmean\n",
      "Execution time: 2.3656318187713623\n",
      "\n",
      "Testing function: dominant_color_via_mini_kmeans\n",
      "Execution time: 0.2404782772064209\n",
      "\n",
      "Testing function: dominant_color_via_kmean\n",
      "Execution time: 2.6068825721740723\n",
      "\n",
      "Testing function: dominant_color_via_mini_kmeans\n",
      "Execution time: 0.2406773567199707\n",
      "\n",
      "Testing function: dominant_color_via_kmean\n",
      "Execution time: 2.4745805263519287\n",
      "\n",
      "Testing function: dominant_color_via_mini_kmeans\n",
      "Execution time: 0.27553319931030273\n",
      "\n"
     ]
    },
    {
     "data": {
      "text/markdown": [
       "<div style='background-color: #3e281c; min-height: 50px'>#3e281c</div><div style='background-color: #a8925f; min-height: 50px'>#a8925f</div><div style='background-color: #000; min-height: 50px'>#000</div><div style='background-color: #bb875b; min-height: 50px'>#bb875b</div><div style='background-color: #ba885c; min-height: 50px'>#ba885c</div><div style='background-color: #000; min-height: 50px'>#000</div><div style='background-color: #375a72; min-height: 50px'>#375a72</div><div style='background-color: #34546b; min-height: 50px'>#34546b</div><div style='background-color: #000; min-height: 50px'>#000</div><div style='background-color: #60badd; min-height: 50px'>#60badd</div><div style='background-color: #107eb3; min-height: 50px'>#107eb3</div><div style='background-color: #000; min-height: 50px'>#000</div><div style='background-color: #49512f; min-height: 50px'>#49512f</div><div style='background-color: #8eadd1; min-height: 50px'>#8eadd1</div><div style='background-color: #000; min-height: 50px'>#000</div><div style='background-color: #9e9e9f; min-height: 50px'>#9e9e9f</div><div style='background-color: #736455; min-height: 50px'>#736455</div><div style='background-color: #000; min-height: 50px'>#000</div>"
      ],
      "text/plain": [
       "<IPython.core.display.Markdown object>"
      ]
     },
     "execution_count": 64,
     "metadata": {},
     "output_type": "execute_result"
    }
   ],
   "source": [
    "import time\n",
    "\n",
    "\n",
    "functions = [\n",
    "    dominant_color_via_kmean,\n",
    "    dominant_color_via_mini_kmeans,\n",
    "    # dominant_color_via_color_thief\n",
    "]\n",
    "\n",
    "colors = []\n",
    "for image_path in image_paths:\n",
    "    for fct in functions:\n",
    "        print(f\"Testing function: {fct.__name__}\")\n",
    "\n",
    "        start_time = time.time()\n",
    "        colors.append(fct(image_path))\n",
    "\n",
    "        print(f\"Execution time: {time.time() - start_time}\\n\")\n",
    "\n",
    "    colors.append(\"#000\")\n",
    "\n",
    "print_colors(colors)"
   ]
  }
 ],
 "metadata": {
  "kernelspec": {
   "display_name": "tmp",
   "language": "python",
   "name": "python3"
  },
  "language_info": {
   "codemirror_mode": {
    "name": "ipython",
    "version": 3
   },
   "file_extension": ".py",
   "mimetype": "text/x-python",
   "name": "python",
   "nbconvert_exporter": "python",
   "pygments_lexer": "ipython3",
   "version": "3.8.5"
  }
 },
 "nbformat": 4,
 "nbformat_minor": 2
}
